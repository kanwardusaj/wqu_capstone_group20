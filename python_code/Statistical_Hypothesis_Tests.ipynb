{
 "cells": [
  {
   "cell_type": "markdown",
   "metadata": {},
   "source": [
    "# WORLDQUANT UNIVERSITY \n",
    "## CAPSTONE PROJECT - GROUP 20\n",
    "## TITLE : Statistical Hypothesis"
   ]
  },
  {
   "cell_type": "markdown",
   "metadata": {},
   "source": [
    "##### Step 1 - Importing packages "
   ]
  },
  {
   "cell_type": "code",
   "execution_count": 4,
   "metadata": {},
   "outputs": [
    {
     "data": {
      "text/html": [
       "<div>\n",
       "<style scoped>\n",
       "    .dataframe tbody tr th:only-of-type {\n",
       "        vertical-align: middle;\n",
       "    }\n",
       "\n",
       "    .dataframe tbody tr th {\n",
       "        vertical-align: top;\n",
       "    }\n",
       "\n",
       "    .dataframe thead tr th {\n",
       "        text-align: left;\n",
       "    }\n",
       "\n",
       "    .dataframe thead tr:last-of-type th {\n",
       "        text-align: right;\n",
       "    }\n",
       "</style>\n",
       "<table border=\"1\" class=\"dataframe\">\n",
       "  <thead>\n",
       "    <tr>\n",
       "      <th>Attributes</th>\n",
       "      <th colspan=\"10\" halign=\"left\">Adj Close</th>\n",
       "      <th>...</th>\n",
       "      <th colspan=\"10\" halign=\"left\">Volume</th>\n",
       "    </tr>\n",
       "    <tr>\n",
       "      <th>Symbols</th>\n",
       "      <th>AAPL</th>\n",
       "      <th>EBAY</th>\n",
       "      <th>IBM</th>\n",
       "      <th>MSFT</th>\n",
       "      <th>CSL</th>\n",
       "      <th>KO</th>\n",
       "      <th>HPQ</th>\n",
       "      <th>TGT</th>\n",
       "      <th>CNSL</th>\n",
       "      <th>DIS</th>\n",
       "      <th>...</th>\n",
       "      <th>AAPL</th>\n",
       "      <th>EBAY</th>\n",
       "      <th>IBM</th>\n",
       "      <th>MSFT</th>\n",
       "      <th>CSL</th>\n",
       "      <th>KO</th>\n",
       "      <th>HPQ</th>\n",
       "      <th>TGT</th>\n",
       "      <th>CNSL</th>\n",
       "      <th>DIS</th>\n",
       "    </tr>\n",
       "    <tr>\n",
       "      <th>Date</th>\n",
       "      <th></th>\n",
       "      <th></th>\n",
       "      <th></th>\n",
       "      <th></th>\n",
       "      <th></th>\n",
       "      <th></th>\n",
       "      <th></th>\n",
       "      <th></th>\n",
       "      <th></th>\n",
       "      <th></th>\n",
       "      <th></th>\n",
       "      <th></th>\n",
       "      <th></th>\n",
       "      <th></th>\n",
       "      <th></th>\n",
       "      <th></th>\n",
       "      <th></th>\n",
       "      <th></th>\n",
       "      <th></th>\n",
       "      <th></th>\n",
       "      <th></th>\n",
       "    </tr>\n",
       "  </thead>\n",
       "  <tbody>\n",
       "    <tr>\n",
       "      <td>2004-12-31</td>\n",
       "      <td>3.982207</td>\n",
       "      <td>24.007917</td>\n",
       "      <td>65.487297</td>\n",
       "      <td>19.333174</td>\n",
       "      <td>25.731073</td>\n",
       "      <td>10.590472</td>\n",
       "      <td>5.821805</td>\n",
       "      <td>36.895596</td>\n",
       "      <td>NaN</td>\n",
       "      <td>22.565386</td>\n",
       "      <td>...</td>\n",
       "      <td>69647200.0</td>\n",
       "      <td>22028800.0</td>\n",
       "      <td>2793200.0</td>\n",
       "      <td>54959500.0</td>\n",
       "      <td>186800.0</td>\n",
       "      <td>9805800.0</td>\n",
       "      <td>11881500.0</td>\n",
       "      <td>2764100.0</td>\n",
       "      <td>NaN</td>\n",
       "      <td>2451700.0</td>\n",
       "    </tr>\n",
       "    <tr>\n",
       "      <td>2005-01-03</td>\n",
       "      <td>3.913571</td>\n",
       "      <td>23.547733</td>\n",
       "      <td>64.935944</td>\n",
       "      <td>19.347652</td>\n",
       "      <td>25.077087</td>\n",
       "      <td>10.565041</td>\n",
       "      <td>5.844016</td>\n",
       "      <td>36.803249</td>\n",
       "      <td>NaN</td>\n",
       "      <td>22.605978</td>\n",
       "      <td>...</td>\n",
       "      <td>172998000.0</td>\n",
       "      <td>46817600.0</td>\n",
       "      <td>5295200.0</td>\n",
       "      <td>65002900.0</td>\n",
       "      <td>283600.0</td>\n",
       "      <td>14072000.0</td>\n",
       "      <td>18188700.0</td>\n",
       "      <td>4434100.0</td>\n",
       "      <td>NaN</td>\n",
       "      <td>5698900.0</td>\n",
       "    </tr>\n",
       "    <tr>\n",
       "      <td>2005-01-04</td>\n",
       "      <td>3.953765</td>\n",
       "      <td>22.969929</td>\n",
       "      <td>64.238380</td>\n",
       "      <td>19.420000</td>\n",
       "      <td>24.565800</td>\n",
       "      <td>10.417526</td>\n",
       "      <td>5.805150</td>\n",
       "      <td>36.405384</td>\n",
       "      <td>NaN</td>\n",
       "      <td>22.362459</td>\n",
       "      <td>...</td>\n",
       "      <td>274202600.0</td>\n",
       "      <td>52193100.0</td>\n",
       "      <td>5711000.0</td>\n",
       "      <td>109442100.0</td>\n",
       "      <td>415800.0</td>\n",
       "      <td>16860200.0</td>\n",
       "      <td>20448400.0</td>\n",
       "      <td>2424500.0</td>\n",
       "      <td>NaN</td>\n",
       "      <td>5893900.0</td>\n",
       "    </tr>\n",
       "    <tr>\n",
       "      <td>2005-01-05</td>\n",
       "      <td>3.988392</td>\n",
       "      <td>22.885319</td>\n",
       "      <td>64.105545</td>\n",
       "      <td>19.376589</td>\n",
       "      <td>24.462751</td>\n",
       "      <td>10.369201</td>\n",
       "      <td>5.830133</td>\n",
       "      <td>36.433796</td>\n",
       "      <td>NaN</td>\n",
       "      <td>22.240704</td>\n",
       "      <td>...</td>\n",
       "      <td>170108400.0</td>\n",
       "      <td>46525800.0</td>\n",
       "      <td>5646700.0</td>\n",
       "      <td>72463500.0</td>\n",
       "      <td>440200.0</td>\n",
       "      <td>13271000.0</td>\n",
       "      <td>25067700.0</td>\n",
       "      <td>2580900.0</td>\n",
       "      <td>NaN</td>\n",
       "      <td>5454600.0</td>\n",
       "    </tr>\n",
       "    <tr>\n",
       "      <td>2005-01-06</td>\n",
       "      <td>3.991483</td>\n",
       "      <td>21.911301</td>\n",
       "      <td>63.906231</td>\n",
       "      <td>19.354885</td>\n",
       "      <td>24.890806</td>\n",
       "      <td>10.455674</td>\n",
       "      <td>5.819029</td>\n",
       "      <td>34.458645</td>\n",
       "      <td>NaN</td>\n",
       "      <td>22.273172</td>\n",
       "      <td>...</td>\n",
       "      <td>176388800.0</td>\n",
       "      <td>102103800.0</td>\n",
       "      <td>4561700.0</td>\n",
       "      <td>76890500.0</td>\n",
       "      <td>1521800.0</td>\n",
       "      <td>10038600.0</td>\n",
       "      <td>19883600.0</td>\n",
       "      <td>13875000.0</td>\n",
       "      <td>NaN</td>\n",
       "      <td>5606800.0</td>\n",
       "    </tr>\n",
       "  </tbody>\n",
       "</table>\n",
       "<p>5 rows × 60 columns</p>\n",
       "</div>"
      ],
      "text/plain": [
       "Attributes Adj Close                                                         \\\n",
       "Symbols         AAPL       EBAY        IBM       MSFT        CSL         KO   \n",
       "Date                                                                          \n",
       "2004-12-31  3.982207  24.007917  65.487297  19.333174  25.731073  10.590472   \n",
       "2005-01-03  3.913571  23.547733  64.935944  19.347652  25.077087  10.565041   \n",
       "2005-01-04  3.953765  22.969929  64.238380  19.420000  24.565800  10.417526   \n",
       "2005-01-05  3.988392  22.885319  64.105545  19.376589  24.462751  10.369201   \n",
       "2005-01-06  3.991483  21.911301  63.906231  19.354885  24.890806  10.455674   \n",
       "\n",
       "Attributes                                       ...       Volume  \\\n",
       "Symbols          HPQ        TGT CNSL        DIS  ...         AAPL   \n",
       "Date                                             ...                \n",
       "2004-12-31  5.821805  36.895596  NaN  22.565386  ...   69647200.0   \n",
       "2005-01-03  5.844016  36.803249  NaN  22.605978  ...  172998000.0   \n",
       "2005-01-04  5.805150  36.405384  NaN  22.362459  ...  274202600.0   \n",
       "2005-01-05  5.830133  36.433796  NaN  22.240704  ...  170108400.0   \n",
       "2005-01-06  5.819029  34.458645  NaN  22.273172  ...  176388800.0   \n",
       "\n",
       "Attributes                                                              \\\n",
       "Symbols            EBAY        IBM         MSFT        CSL          KO   \n",
       "Date                                                                     \n",
       "2004-12-31   22028800.0  2793200.0   54959500.0   186800.0   9805800.0   \n",
       "2005-01-03   46817600.0  5295200.0   65002900.0   283600.0  14072000.0   \n",
       "2005-01-04   52193100.0  5711000.0  109442100.0   415800.0  16860200.0   \n",
       "2005-01-05   46525800.0  5646700.0   72463500.0   440200.0  13271000.0   \n",
       "2005-01-06  102103800.0  4561700.0   76890500.0  1521800.0  10038600.0   \n",
       "\n",
       "Attributes                                          \n",
       "Symbols            HPQ         TGT CNSL        DIS  \n",
       "Date                                                \n",
       "2004-12-31  11881500.0   2764100.0  NaN  2451700.0  \n",
       "2005-01-03  18188700.0   4434100.0  NaN  5698900.0  \n",
       "2005-01-04  20448400.0   2424500.0  NaN  5893900.0  \n",
       "2005-01-05  25067700.0   2580900.0  NaN  5454600.0  \n",
       "2005-01-06  19883600.0  13875000.0  NaN  5606800.0  \n",
       "\n",
       "[5 rows x 60 columns]"
      ]
     },
     "execution_count": 4,
     "metadata": {},
     "output_type": "execute_result"
    }
   ],
   "source": [
    "import numpy as np\n",
    "import pandas_datareader\n",
    "import pandas as pd\n",
    "from pandas_datareader import data\n",
    "\n",
    "#Adjusted Close Prices for Ten Selected Stocks Over 15 - Year Period\n",
    "\n",
    "import matplotlib.pyplot as plt\n",
    "%matplotlib inline\n",
    "start_date = '2005-01-01'\n",
    "end_date = '2020-01-01'\n",
    "ticker_list = ['AAPL', 'EBAY', 'IBM', 'MSFT', 'CSL', 'KO', 'HPQ', 'TGT', 'CNSL', 'DIS']\n",
    "data = data.get_data_yahoo(ticker_list, start_date, end_date)\n",
    "data.head()"
   ]
  },
  {
   "cell_type": "code",
   "execution_count": 5,
   "metadata": {},
   "outputs": [
    {
     "name": "stdout",
     "output_type": "stream",
     "text": [
      "Symbols         AAPL      EBAY       IBM      MSFT       CSL        KO  \\\n",
      "Date                                                                     \n",
      "2004-12-31       NaN       NaN       NaN       NaN       NaN       NaN   \n",
      "2005-01-31  0.194100 -0.299467 -0.052343 -0.016467 -0.028497 -0.003602   \n",
      "2005-02-28  0.166710  0.051288 -0.007101 -0.039664  0.106307  0.031573   \n",
      "2005-03-31 -0.071110 -0.130252 -0.012962 -0.039348  0.003307 -0.013576   \n",
      "2005-04-30 -0.134629 -0.148953 -0.164150  0.046752  0.029382  0.042477   \n",
      "\n",
      "Symbols          HPQ       TGT  CNSL       DIS  \n",
      "Date                                            \n",
      "2004-12-31       NaN       NaN   NaN       NaN  \n",
      "2005-01-31 -0.065808 -0.022337   NaN  0.029856  \n",
      "2005-02-28  0.061766  0.002594   NaN -0.024101  \n",
      "2005-03-31  0.064210 -0.015741   NaN  0.028275  \n",
      "2005-04-30 -0.067001 -0.072171   NaN -0.081100  \n"
     ]
    }
   ],
   "source": [
    "data_daily_returns = data['Adj Close'].pct_change()\n",
    "data_monthly_returns = data['Adj Close'].resample('M').ffill().pct_change()\n",
    "print(data_monthly_returns.head())"
   ]
  },
  {
   "cell_type": "markdown",
   "metadata": {},
   "source": [
    "# Test 1 : Shapiro-Wilk Normality Test"
   ]
  },
  {
   "cell_type": "code",
   "execution_count": 10,
   "metadata": {},
   "outputs": [
    {
     "name": "stdout",
     "output_type": "stream",
     "text": [
      "stat=0.977, p=0.005\n",
      "Apple stocks DO NOT follow a Gaussian Curve\n"
     ]
    }
   ],
   "source": [
    "#Apple \n",
    "from scipy.stats import shapiro\n",
    "data = data_monthly_returns.loc['2005-01-31':'2019-12-31','AAPL']\n",
    "stat, p = shapiro(data)\n",
    "print('stat=%.3f, p=%.3f' % (stat, p))\n",
    "if p > 0.05:\n",
    "\tprint('Apple stocks follow a Gaussian Curve ')\n",
    "else:\n",
    "\tprint('Apple stocks DO NOT follow a Gaussian Curve')"
   ]
  },
  {
   "cell_type": "code",
   "execution_count": 11,
   "metadata": {},
   "outputs": [
    {
     "name": "stdout",
     "output_type": "stream",
     "text": [
      "stat=0.975, p=0.002\n",
      "EBAY stocks DO NOT follow a Gaussian Curve\n"
     ]
    }
   ],
   "source": [
    "#EBAY \n",
    "from scipy.stats import shapiro\n",
    "data = data_monthly_returns.loc['2005-01-31':'2019-12-31','EBAY']\n",
    "stat, p = shapiro(data)\n",
    "print('stat=%.3f, p=%.3f' % (stat, p))\n",
    "if p > 0.05:\n",
    "\tprint('EBAY stocks follow a Gaussian Curve ')\n",
    "else:\n",
    "\tprint('EBAY stocks DO NOT follow a Gaussian Curve')"
   ]
  },
  {
   "cell_type": "code",
   "execution_count": 12,
   "metadata": {},
   "outputs": [
    {
     "name": "stdout",
     "output_type": "stream",
     "text": [
      "stat=0.967, p=0.000\n",
      "IBM stocks DO NOT follow a Gaussian Curve\n"
     ]
    }
   ],
   "source": [
    "#IBM\n",
    "from scipy.stats import shapiro\n",
    "data = data_monthly_returns.loc['2005-01-31':'2019-12-31','IBM']\n",
    "stat, p = shapiro(data)\n",
    "print('stat=%.3f, p=%.3f' % (stat, p))\n",
    "if p > 0.05:\n",
    "\tprint('IBM stocks follow a Gaussian Curve ')\n",
    "else:\n",
    "\tprint('IBM stocks DO NOT follow a Gaussian Curve')"
   ]
  },
  {
   "cell_type": "code",
   "execution_count": 14,
   "metadata": {},
   "outputs": [
    {
     "name": "stdout",
     "output_type": "stream",
     "text": [
      "stat=0.959, p=0.000\n",
      "CSL stocks DO NOT follow a Gaussian Curve\n"
     ]
    }
   ],
   "source": [
    "#CSL\n",
    "from scipy.stats import shapiro\n",
    "data = data_monthly_returns.loc['2005-01-31':'2019-12-31','CSL']\n",
    "stat, p = shapiro(data)\n",
    "print('stat=%.3f, p=%.3f' % (stat, p))\n",
    "if p > 0.05:\n",
    "\tprint('CSL stocks follow a Gaussian Curve ')\n",
    "else:\n",
    "\tprint('CSL stocks DO NOT follow a Gaussian Curve')"
   ]
  },
  {
   "cell_type": "code",
   "execution_count": 15,
   "metadata": {},
   "outputs": [
    {
     "name": "stdout",
     "output_type": "stream",
     "text": [
      "stat=0.985, p=0.059\n",
      "Microsoft stocks follow a Gaussian Curve \n"
     ]
    }
   ],
   "source": [
    "#Microsoft\n",
    "from scipy.stats import shapiro\n",
    "data = data_monthly_returns.loc['2005-01-31':'2019-12-31','MSFT']\n",
    "stat, p = shapiro(data)\n",
    "print('stat=%.3f, p=%.3f' % (stat, p))\n",
    "if p > 0.05:\n",
    "\tprint('Microsoft stocks follow a Gaussian Curve ')\n",
    "else:\n",
    "\tprint('Microsoft stocks DO NOT follow a Gaussian Curve')"
   ]
  },
  {
   "cell_type": "code",
   "execution_count": 16,
   "metadata": {},
   "outputs": [
    {
     "name": "stdout",
     "output_type": "stream",
     "text": [
      "stat=0.985, p=0.053\n",
      "KO stocks follow a Gaussian Curve \n"
     ]
    }
   ],
   "source": [
    "#KO\n",
    "from scipy.stats import shapiro\n",
    "data = data_monthly_returns.loc['2005-01-31':'2019-12-31','KO']\n",
    "stat, p = shapiro(data)\n",
    "print('stat=%.3f, p=%.3f' % (stat, p))\n",
    "if p > 0.05:\n",
    "\tprint('KO stocks follow a Gaussian Curve ')\n",
    "else:\n",
    "\tprint('KO stocks DO NOT follow a Gaussian Curve')"
   ]
  },
  {
   "cell_type": "code",
   "execution_count": 17,
   "metadata": {},
   "outputs": [
    {
     "name": "stdout",
     "output_type": "stream",
     "text": [
      "stat=0.993, p=0.569\n",
      "HPQ stocks follow a Gaussian Curve \n"
     ]
    }
   ],
   "source": [
    "#HPQ\n",
    "from scipy.stats import shapiro\n",
    "data = data_monthly_returns.loc['2005-01-31':'2019-12-31','HPQ']\n",
    "stat, p = shapiro(data)\n",
    "print('stat=%.3f, p=%.3f' % (stat, p))\n",
    "if p > 0.05:\n",
    "\tprint('HPQ stocks follow a Gaussian Curve ')\n",
    "else:\n",
    "\tprint('HPQ stocks DO NOT follow a Gaussian Curve')"
   ]
  },
  {
   "cell_type": "markdown",
   "metadata": {},
   "source": [
    "#TGT\n",
    "from scipy.stats import shapiro\n",
    "data = data_monthly_returns.loc['2005-01-31':'2019-12-31','TGT']\n",
    "stat, p = shapiro(data)\n",
    "print('stat=%.3f, p=%.3f' % (stat, p))\n",
    "if p > 0.05:\n",
    "\tprint('TGT stocks follow a Gaussian Curve ')\n",
    "else:\n",
    "\tprint('TGT stocks DO NOT follow a Gaussian Curve')"
   ]
  },
  {
   "cell_type": "code",
   "execution_count": 20,
   "metadata": {},
   "outputs": [
    {
     "name": "stdout",
     "output_type": "stream",
     "text": [
      "stat=0.903, p=0.000\n",
      "CNSL stocks DO NOT follow a Gaussian Curve\n"
     ]
    }
   ],
   "source": [
    "#CNSL \n",
    "from scipy.stats import shapiro\n",
    "data = data_monthly_returns.loc['2010-01-31':'2019-12-31','CNSL']\n",
    "stat, p = shapiro(data)\n",
    "print('stat=%.3f, p=%.3f' % (stat, p))\n",
    "if p > 0.05:\n",
    "\tprint('CNSL stocks follow a Gaussian Curve ')\n",
    "else:\n",
    "\tprint('CNSL stocks DO NOT follow a Gaussian Curve')"
   ]
  },
  {
   "cell_type": "code",
   "execution_count": 21,
   "metadata": {},
   "outputs": [
    {
     "name": "stdout",
     "output_type": "stream",
     "text": [
      "stat=0.982, p=0.023\n",
      "DISNEY stocks DO NOT follow a Gaussian Curve\n"
     ]
    }
   ],
   "source": [
    "#DIS \n",
    "from scipy.stats import shapiro\n",
    "data = data_monthly_returns.loc['2005-01-31':'2019-12-31','DIS']\n",
    "stat, p = shapiro(data)\n",
    "print('stat=%.3f, p=%.3f' % (stat, p))\n",
    "if p > 0.05:\n",
    "\tprint('DISNEY stocks follow a Gaussian Curve ')\n",
    "else:\n",
    "\tprint('DISNEY stocks DO NOT follow a Gaussian Curve')"
   ]
  },
  {
   "cell_type": "markdown",
   "metadata": {},
   "source": [
    "# Test 2 : D’Agostino’s K^2 Test"
   ]
  },
  {
   "cell_type": "code",
   "execution_count": 37,
   "metadata": {},
   "outputs": [
    {
     "name": "stdout",
     "output_type": "stream",
     "text": [
      "stat=15.435, p=0.000\n",
      "Apple stocks DO NOT follow a Gaussian Curve\n",
      "stat=11.684, p=0.003\n",
      "EBAY stocks DO NOT follow a Gaussian Curve\n",
      "stat=21.738, p=0.000\n",
      "IBM stocks DO NOT follow a Gaussian Curve\n",
      "stat=15.635, p=0.000\n",
      "CSL stocks DO NOT follow a Gaussian Curve\n",
      "stat=4.677, p=0.096\n",
      "Microsoft stocks follow a Gaussian Curve \n",
      "stat=10.168, p=0.006\n",
      "KO stocks DO NOT follow a Gaussian Curve\n",
      "stat=2.146, p=0.342\n",
      "HPQ stocks follow a Gaussian Curve \n",
      "stat=9.773, p=0.008\n",
      "TGT stocks DO NOT follow a Gaussian Curve\n",
      "stat=51.197, p=0.000\n",
      "CNSL stocks DO NOT follow a Gaussian Curve\n",
      "stat=7.857, p=0.020\n",
      "DISNEY stocks DO NOT follow a Gaussian Curve\n"
     ]
    }
   ],
   "source": [
    "#apple\n",
    "from scipy.stats import normaltest\n",
    "data = data_monthly_returns.loc['2005-01-31':'2019-12-31','AAPL']\n",
    "stat, p = normaltest(data)\n",
    "print('stat=%.3f, p=%.3f' % (stat, p))\n",
    "if p > 0.05:\n",
    "\tprint('Apple stocks follow a Gaussian Curve ')\n",
    "else:\n",
    "\tprint('Apple stocks DO NOT follow a Gaussian Curve')\n",
    "    \n",
    "\n",
    "#EBAY \n",
    "from scipy.stats import shapiro\n",
    "data = data_monthly_returns.loc['2005-01-31':'2019-12-31','EBAY']\n",
    "stat, p = normaltest(data)\n",
    "print('stat=%.3f, p=%.3f' % (stat, p))\n",
    "if p > 0.05:\n",
    "\tprint('EBAY stocks follow a Gaussian Curve ')\n",
    "else:\n",
    "\tprint('EBAY stocks DO NOT follow a Gaussian Curve')\n",
    "    \n",
    "\n",
    "#IBM\n",
    "from scipy.stats import shapiro\n",
    "data = data_monthly_returns.loc['2005-01-31':'2019-12-31','IBM']\n",
    "stat, p = normaltest(data)\n",
    "print('stat=%.3f, p=%.3f' % (stat, p))\n",
    "if p > 0.05:\n",
    "\tprint('IBM stocks follow a Gaussian Curve ')\n",
    "else:\n",
    "\tprint('IBM stocks DO NOT follow a Gaussian Curve')\n",
    "\n",
    "#CSL\n",
    "from scipy.stats import shapiro\n",
    "data = data_monthly_returns.loc['2005-01-31':'2019-12-31','CSL']\n",
    "stat, p = normaltest(data)\n",
    "print('stat=%.3f, p=%.3f' % (stat, p))\n",
    "if p > 0.05:\n",
    "\tprint('CSL stocks follow a Gaussian Curve ')\n",
    "else:\n",
    "\tprint('CSL stocks DO NOT follow a Gaussian Curve')\n",
    "    \n",
    "#Microsoft\n",
    "from scipy.stats import shapiro\n",
    "data = data_monthly_returns.loc['2005-01-31':'2019-12-31','MSFT']\n",
    "stat, p = normaltest(data)\n",
    "print('stat=%.3f, p=%.3f' % (stat, p))\n",
    "if p > 0.05:\n",
    "\tprint('Microsoft stocks follow a Gaussian Curve ')\n",
    "else:\n",
    "\tprint('Microsoft stocks DO NOT follow a Gaussian Curve')\n",
    "    \n",
    "#KO\n",
    "from scipy.stats import shapiro\n",
    "data = data_monthly_returns.loc['2005-01-31':'2019-12-31','KO']\n",
    "stat, p = normaltest(data)\n",
    "print('stat=%.3f, p=%.3f' % (stat, p))\n",
    "if p > 0.05:\n",
    "\tprint('KO stocks follow a Gaussian Curve ')\n",
    "else:\n",
    "\tprint('KO stocks DO NOT follow a Gaussian Curve')\n",
    "\n",
    "\n",
    "#HPQ\n",
    "from scipy.stats import shapiro\n",
    "data = data_monthly_returns.loc['2005-01-31':'2019-12-31','HPQ']\n",
    "stat, p = normaltest(data)\n",
    "print('stat=%.3f, p=%.3f' % (stat, p))\n",
    "if p > 0.05:\n",
    "\tprint('HPQ stocks follow a Gaussian Curve ')\n",
    "else:\n",
    "\tprint('HPQ stocks DO NOT follow a Gaussian Curve')\n",
    "\n",
    "#TGT\n",
    "from scipy.stats import shapiro\n",
    "data = data_monthly_returns.loc['2005-01-31':'2019-12-31','TGT']\n",
    "stat, p = normaltest(data)\n",
    "print('stat=%.3f, p=%.3f' % (stat, p))\n",
    "if p > 0.05:\n",
    "\tprint('TGT stocks follow a Gaussian Curve ')\n",
    "else:\n",
    "\tprint('TGT stocks DO NOT follow a Gaussian Curve')\n",
    "    \n",
    "#CNSL \n",
    "from scipy.stats import shapiro\n",
    "data = data_monthly_returns.loc['2010-01-31':'2019-12-31','CNSL']\n",
    "stat, p = normaltest(data)\n",
    "print('stat=%.3f, p=%.3f' % (stat, p))\n",
    "if p > 0.05:\n",
    "\tprint('CNSL stocks follow a Gaussian Curve ')\n",
    "else:\n",
    "\tprint('CNSL stocks DO NOT follow a Gaussian Curve')\n",
    "    \n",
    "#CNSL \n",
    "from scipy.stats import shapiro\n",
    "data = data_monthly_returns.loc['2010-01-31':'2019-12-31','DIS']\n",
    "stat, p = normaltest(data)\n",
    "print('stat=%.3f, p=%.3f' % (stat, p))\n",
    "if p > 0.05:\n",
    "\tprint('DISNEY stocks follow a Gaussian Curve ')\n",
    "else:\n",
    "\tprint('DISNEY stocks DO NOT follow a Gaussian Curve')\n"
   ]
  },
  {
   "cell_type": "markdown",
   "metadata": {},
   "source": [
    "# Test 3 - Correlation Tests - Pearson’s Correlation Coefficient and Spearman Rank Correlation"
   ]
  },
  {
   "cell_type": "code",
   "execution_count": 38,
   "metadata": {},
   "outputs": [
    {
     "name": "stdout",
     "output_type": "stream",
     "text": [
      "stat=0.297, p=0.000\n",
      "Probably dependent\n",
      "stat=0.266, p=0.000\n",
      "Probably dependent\n"
     ]
    }
   ],
   "source": [
    "# Example of the Pearson's Correlation test\n",
    "from scipy.stats import pearsonr\n",
    "data1 = data_monthly_returns.loc['2005-01-31':'2019-12-31','AAPL']\n",
    "data2 = data_monthly_returns.loc['2005-01-31':'2019-12-31','DIS']\n",
    "stat, p = pearsonr(data1, data2)\n",
    "print('stat=%.3f, p=%.3f' % (stat, p))\n",
    "if p > 0.05:\n",
    "\tprint('Probably independent')\n",
    "else:\n",
    "\tprint('Probably dependent')\n",
    "    \n",
    "\n",
    "# Example of the Spearman's Rank Correlation Test\n",
    "from scipy.stats import spearmanr   \n",
    "stat, p = spearmanr(data1, data2)\n",
    "print('stat=%.3f, p=%.3f' % (stat, p))\n",
    "if p > 0.05:\n",
    "\tprint('Probably independent')\n",
    "else:\n",
    "\tprint('Probably dependent')"
   ]
  },
  {
   "cell_type": "markdown",
   "metadata": {},
   "source": [
    "# Test 4 - Stationary Tests - Augmented Dickey-Fuller unit root test"
   ]
  },
  {
   "cell_type": "code",
   "execution_count": 42,
   "metadata": {},
   "outputs": [
    {
     "name": "stdout",
     "output_type": "stream",
     "text": [
      "stat=-12.106, p=0.000\n",
      "Apple stock prices are Stationary\n",
      "stat=-14.568, p=0.000\n",
      "IBM stock prices are Stationary\n",
      "stat=-13.716, p=0.000\n",
      "EBAY stock prices are Stationary\n",
      "stat=-13.555, p=0.000\n",
      "CSL stock prices are Stationary\n",
      "stat=-7.537, p=0.000\n",
      "MICROSoFT stock prices are Stationary\n",
      "stat=-5.345, p=0.000\n",
      "KO stock prices are Stationary\n",
      "stat=-12.774, p=0.000\n",
      "HPQ stock prices are Stationary\n",
      "stat=-4.425, p=0.000\n",
      "TGT stock prices are Stationary\n",
      "stat=-5.259, p=0.000\n",
      "DISNEY stock prices are Stationary\n",
      "stat=-5.368, p=0.000\n",
      "CNSL stock prices are Stationary\n"
     ]
    }
   ],
   "source": [
    "#APPLE\n",
    "from statsmodels.tsa.stattools import adfuller\n",
    "data = data_monthly_returns.loc['2005-01-31':'2019-12-31','AAPL']\n",
    "stat, p, lags, obs, crit, t = adfuller(data)\n",
    "print('stat=%.3f, p=%.3f' % (stat, p))\n",
    "if p > 0.05:\n",
    "\tprint('Apple stock prices are NOT Stationary')\n",
    "else:\n",
    "\tprint('Apple stock prices are Stationary')\n",
    "    \n",
    "#IBM\n",
    "from statsmodels.tsa.stattools import adfuller\n",
    "data = data_monthly_returns.loc['2005-01-31':'2019-12-31','IBM']\n",
    "stat, p, lags, obs, crit, t = adfuller(data)\n",
    "print('stat=%.3f, p=%.3f' % (stat, p))\n",
    "if p > 0.05:\n",
    "\tprint('IBM stock prices are NOT Stationary')\n",
    "else:\n",
    "\tprint('IBM stock prices are Stationary')\n",
    "    \n",
    "#EBAY\n",
    "from statsmodels.tsa.stattools import adfuller\n",
    "data = data_monthly_returns.loc['2005-01-31':'2019-12-31','EBAY']\n",
    "stat, p, lags, obs, crit, t = adfuller(data)\n",
    "print('stat=%.3f, p=%.3f' % (stat, p))\n",
    "if p > 0.05:\n",
    "\tprint('EBAY stock prices are NOT Stationary')\n",
    "else:\n",
    "\tprint('EBAY stock prices are Stationary')\n",
    "    \n",
    "#CSL\n",
    "from statsmodels.tsa.stattools import adfuller\n",
    "data = data_monthly_returns.loc['2005-01-31':'2019-12-31','CSL']\n",
    "stat, p, lags, obs, crit, t = adfuller(data)\n",
    "print('stat=%.3f, p=%.3f' % (stat, p))\n",
    "if p > 0.05:\n",
    "\tprint('CSL stock prices are NOT Stationary')\n",
    "else:\n",
    "\tprint('CSL stock prices are Stationary')\n",
    "    \n",
    "#MICROSOFT\n",
    "from statsmodels.tsa.stattools import adfuller\n",
    "data = data_monthly_returns.loc['2005-01-31':'2019-12-31','MSFT']\n",
    "stat, p, lags, obs, crit, t = adfuller(data)\n",
    "print('stat=%.3f, p=%.3f' % (stat, p))\n",
    "if p > 0.05:\n",
    "\tprint('MICROSOFT stock prices are NOT Stationary')\n",
    "else:\n",
    "\tprint('MICROSoFT stock prices are Stationary')\n",
    "    \n",
    "#KO\n",
    "from statsmodels.tsa.stattools import adfuller\n",
    "data = data_monthly_returns.loc['2005-01-31':'2019-12-31','KO']\n",
    "stat, p, lags, obs, crit, t = adfuller(data)\n",
    "print('stat=%.3f, p=%.3f' % (stat, p))\n",
    "if p > 0.05:\n",
    "\tprint('KO stock prices are NOT Stationary')\n",
    "else:\n",
    "\tprint('KO stock prices are Stationary')\n",
    "    \n",
    "#HPQ\n",
    "from statsmodels.tsa.stattools import adfuller\n",
    "data = data_monthly_returns.loc['2005-01-31':'2019-12-31','HPQ']\n",
    "stat, p, lags, obs, crit, t = adfuller(data)\n",
    "print('stat=%.3f, p=%.3f' % (stat, p))\n",
    "if p > 0.05:\n",
    "\tprint('HPQ stock prices are NOT Stationary')\n",
    "else:\n",
    "\tprint('HPQ stock prices are Stationary')\n",
    "    \n",
    "#TGT\n",
    "from statsmodels.tsa.stattools import adfuller\n",
    "data = data_monthly_returns.loc['2005-01-31':'2019-12-31','TGT']\n",
    "stat, p, lags, obs, crit, t = adfuller(data)\n",
    "print('stat=%.3f, p=%.3f' % (stat, p))\n",
    "if p > 0.05:\n",
    "\tprint('TGT stock prices are NOT Stationary')\n",
    "else:\n",
    "\tprint('TGT stock prices are Stationary')\n",
    "    \n",
    "#DISNEY\n",
    "from statsmodels.tsa.stattools import adfuller\n",
    "data = data_monthly_returns.loc['2005-01-31':'2019-12-31','DIS']\n",
    "stat, p, lags, obs, crit, t = adfuller(data)\n",
    "print('stat=%.3f, p=%.3f' % (stat, p))\n",
    "if p > 0.05:\n",
    "\tprint('DISNEY stock prices are NOT Stationary')\n",
    "else:\n",
    "\tprint('DISNEY stock prices are Stationary')\n",
    "    \n",
    "#CNSL\n",
    "from statsmodels.tsa.stattools import adfuller\n",
    "data = data_monthly_returns.loc['2007-01-31':'2019-12-31','CNSL']\n",
    "stat, p, lags, obs, crit, t = adfuller(data)\n",
    "print('stat=%.3f, p=%.3f' % (stat, p))\n",
    "if p > 0.05:\n",
    "\tprint('CNSL stock prices are NOT Stationary')\n",
    "else:\n",
    "\tprint('CNSL stock prices are Stationary')\n",
    "    "
   ]
  },
  {
   "cell_type": "markdown",
   "metadata": {},
   "source": [
    "# Test 5 - Parametric Statistical Hypothesis Tests - Analysis of Variance Test (ANOVA)"
   ]
  },
  {
   "cell_type": "code",
   "execution_count": 49,
   "metadata": {},
   "outputs": [
    {
     "name": "stdout",
     "output_type": "stream",
     "text": [
      "stat=2.289, p=0.044\n",
      "Probably different distributions\n"
     ]
    }
   ],
   "source": [
    "#Analysis of Variance Test\n",
    "from scipy.stats import f_oneway\n",
    "data1 =  data_monthly_returns.loc['2005-01-31':'2019-12-31','AAPL']\n",
    "data2 =  data_monthly_returns.loc['2005-01-31':'2019-12-31','IBM']\n",
    "data3 =  data_monthly_returns.loc['2005-01-31':'2019-12-31','MSFT']\n",
    "data4 =  data_monthly_returns.loc['2005-01-31':'2019-12-31','EBAY']\n",
    "data5 =  data_monthly_returns.loc['2005-01-31':'2019-12-31','CSL']\n",
    "data6 =  data_monthly_returns.loc['2005-01-31':'2019-12-31','KO']\n",
    "stat, p = f_oneway(data1, data2, data3,data4,data5,data6)\n",
    "print('stat=%.3f, p=%.3f' % (stat, p))\n",
    "if p > 0.05:\n",
    "\tprint('Probably the same distribution')\n",
    "else:\n",
    "\tprint('Probably different distributions')"
   ]
  }
 ],
 "metadata": {
  "kernelspec": {
   "display_name": "Python 3",
   "language": "python",
   "name": "python3"
  },
  "language_info": {
   "codemirror_mode": {
    "name": "ipython",
    "version": 3
   },
   "file_extension": ".py",
   "mimetype": "text/x-python",
   "name": "python",
   "nbconvert_exporter": "python",
   "pygments_lexer": "ipython3",
   "version": "3.6.5"
  }
 },
 "nbformat": 4,
 "nbformat_minor": 2
}
